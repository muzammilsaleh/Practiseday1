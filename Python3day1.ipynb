{
 "cells": [
  {
   "cell_type": "code",
   "execution_count": 2,
   "id": "d6885e5b",
   "metadata": {},
   "outputs": [
    {
     "name": "stdout",
     "output_type": "stream",
     "text": [
      "hello world\n"
     ]
    }
   ],
   "source": [
    "# this is comment.\n",
    "\n",
    "print ('hello world')"
   ]
  },
  {
   "cell_type": "code",
   "execution_count": 68,
   "id": "97337359",
   "metadata": {},
   "outputs": [
    {
     "name": "stdout",
     "output_type": "stream",
     "text": [
      "this is a add function\n"
     ]
    }
   ],
   "source": [
    "def add():\n",
    "    'this is a add function'\n",
    "    \n",
    "print (add.__doc__)"
   ]
  },
  {
   "cell_type": "code",
   "execution_count": 67,
   "id": "8261033c",
   "metadata": {},
   "outputs": [
    {
     "name": "stdout",
     "output_type": "stream",
     "text": [
      "7\n"
     ]
    }
   ],
   "source": [
    "a = 10\n",
    "def add():\n",
    "    b=5\n",
    "    c=2\n",
    "    global d\n",
    "    d=b+c\n",
    "    \n",
    "add()\n",
    "print(d)"
   ]
  },
  {
   "cell_type": "code",
   "execution_count": 6,
   "id": "ebc81ef1",
   "metadata": {},
   "outputs": [
    {
     "name": "stdout",
     "output_type": "stream",
     "text": [
      "[2, 3, 4, 5, 6, 3]\n"
     ]
    }
   ],
   "source": [
    "a = ['a', 2, 3 , 3.5, 'abc',[4,5,6,3,'a','avc']]\n",
    "b=[]\n",
    "\n",
    "for i in a:\n",
    "    if type(i)==int:\n",
    "        b.append(i)\n",
    "    elif type(i)==list:\n",
    "        for j in i:\n",
    "            if type(j)==int:\n",
    "                b.append(j)\n",
    "print(b)\n"
   ]
  },
  {
   "cell_type": "code",
   "execution_count": null,
   "id": "26dd0955",
   "metadata": {},
   "outputs": [],
   "source": [
    "a=int(input(\"enter a number\"))\n",
    "b=int(input(\"enter a number\"))\n",
    "x=input(\"enter operation\")\n",
    "if x== '+':\n",
    "    print (f\"Addition is: {a+b}\")\n",
    "elif x=='-':\n",
    "    print (f\"subtraction is: {a-b}\")\n",
    "elif x=='*':\n",
    "    print (f\"subtraction is: {a*b}\")\n",
    "elif x=='/':\n",
    "    print (f\"subtraction is: {a/b}\")\n",
    "elif x=='%':\n",
    "    print (f\"subtraction is: {a%b}\") \n",
    "else:\n",
    "    print(\"enter a valid number\")  "
   ]
  },
  {
   "cell_type": "code",
   "execution_count": null,
   "id": "99b28b1e-7491-47ea-b10b-49d9d62d565f",
   "metadata": {},
   "outputs": [],
   "source": [
    "a=int(input(\"enter a number\"))\n",
    "b=int(input(\"enter a number\"))\n",
    "x=input(\"enter operation\")\n",
    "while True : \n",
    "    if x== '+':\n",
    "        print (\"Addition is: {a+b}\")\n",
    "    elif x=='-':\n",
    "        print (f\"subtraction is: {a-b}\")\n",
    "    elif x=='*':\n",
    "        print (f\"subtraction is: {a*b}\")\n",
    "    elif x=='/':\n",
    "        print (f\"subtraction is: {a/b}\")\n",
    "    elif x=='%':\n",
    "        print (f\"subtraction is: {a%b}\") \n",
    "    else:\n",
    "        print(\"enter a valid number\")"
   ]
  },
  {
   "cell_type": "code",
   "execution_count": null,
   "id": "3edf8400-9726-421e-8b84-bb4cc2bc2e27",
   "metadata": {},
   "outputs": [
    {
     "name": "stdout",
     "output_type": "stream",
     "text": [
      "7\n",
      "6\n"
     ]
    }
   ],
   "source": [
    "x=5\n",
    "y=7\n",
    "\n",
    "\n",
    "while y>2:\n",
    "    if y==5:\n",
    "        continue\n",
    "    print(y)\n",
    "    y-=1\n",
    "print(\"loop ended\")"
   ]
  },
  {
   "cell_type": "code",
   "execution_count": 13,
   "id": "ddcfd723-1ac2-42a7-a7e3-eb0e039e2248",
   "metadata": {},
   "outputs": [
    {
     "name": "stdout",
     "output_type": "stream",
     "text": [
      "<class 'str'>\n",
      "<class 'tuple'>\n"
     ]
    }
   ],
   "source": [
    "thistuple = (\"apple\",)\n",
    "for i in thistuple:\n",
    "    print(type(i))\n",
    "print(type(thistuple))"
   ]
  },
  {
   "cell_type": "code",
   "execution_count": 52,
   "id": "83ec46cc-a612-4413-9779-ca2008f98775",
   "metadata": {
    "scrolled": true
   },
   "outputs": [
    {
     "name": "stdin",
     "output_type": "stream",
     "text": [
      "enter a number: 50\n"
     ]
    },
    {
     "name": "stdout",
     "output_type": "stream",
     "text": [
      "List is: [1, 1, 2, 3, 5, 8, 13, 21, 34, 55, 89]\n",
      "Less then 5 is: [1, 1, 2, 3]\n",
      "less then given number: [1, 1, 2, 3, 5, 8, 13, 21, 34]\n"
     ]
    }
   ],
   "source": [
    "a = [1, 1, 2, 3, 5, 8, 13, 21, 34, 55, 89]\n",
    "b=[]\n",
    "c=int(input(\"enter a number:\"))\n",
    "d=[]\n",
    "print(\"List is:\",a)\n",
    "for i in a:\n",
    "    if i<5:\n",
    "        b.append(i)\n",
    "print(\"Less then 5 is:\",b)\n",
    "for i in a:\n",
    "    if i<c:\n",
    "        d.append(i)\n",
    "print(\"less then given number:\",d)"
   ]
  },
  {
   "cell_type": "code",
   "execution_count": 53,
   "id": "8bd3f66b-6393-4c76-85ac-c8aaf4bf8d71",
   "metadata": {},
   "outputs": [
    {
     "name": "stdin",
     "output_type": "stream",
     "text": [
      "Enter a String: My name is muzammil\n"
     ]
    },
    {
     "name": "stdout",
     "output_type": "stream",
     "text": [
      "muzammil is name My\n"
     ]
    }
   ],
   "source": [
    "txt = input(\"Enter a String:\")\n",
    "x=txt.split()\n",
    "a=list(x)\n",
    "a.reverse()\n",
    "b=tuple(a)\n",
    "c=\" \"\n",
    "e=c.join(b)\n",
    "print(e)"
   ]
  },
  {
   "cell_type": "code",
   "execution_count": 55,
   "id": "94e4c24e-9dce-4382-a0ff-9330017787a4",
   "metadata": {},
   "outputs": [
    {
     "name": "stdin",
     "output_type": "stream",
     "text": [
      "enter a word: madam\n"
     ]
    },
    {
     "name": "stdout",
     "output_type": "stream",
     "text": [
      "it is palindrome\n"
     ]
    }
   ],
   "source": [
    "a= input(\"enter a word:\")\n",
    "b=a[::-1]\n",
    "if a==b:\n",
    "    print(\"it is palindrome\")\n",
    "else:\n",
    "    print(\"not a palindrome\")"
   ]
  },
  {
   "cell_type": "code",
   "execution_count": null,
   "id": "a67a6733-fdb3-4238-a9c2-e1cb99cad593",
   "metadata": {},
   "outputs": [],
   "source": []
  }
 ],
 "metadata": {
  "kernelspec": {
   "display_name": "Python 3 (ipykernel)",
   "language": "python",
   "name": "python3"
  },
  "language_info": {
   "codemirror_mode": {
    "name": "ipython",
    "version": 3
   },
   "file_extension": ".py",
   "mimetype": "text/x-python",
   "name": "python",
   "nbconvert_exporter": "python",
   "pygments_lexer": "ipython3",
   "version": "3.8.10"
  }
 },
 "nbformat": 4,
 "nbformat_minor": 5
}
